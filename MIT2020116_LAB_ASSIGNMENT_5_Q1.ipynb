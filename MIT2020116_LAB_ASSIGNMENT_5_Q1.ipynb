{
  "nbformat": 4,
  "nbformat_minor": 0,
  "metadata": {
    "kernelspec": {
      "display_name": "Python 3",
      "language": "python",
      "name": "python3"
    },
    "language_info": {
      "codemirror_mode": {
        "name": "ipython",
        "version": 3
      },
      "file_extension": ".py",
      "mimetype": "text/x-python",
      "name": "python",
      "nbconvert_exporter": "python",
      "pygments_lexer": "ipython3",
      "version": "3.8.5"
    },
    "colab": {
      "name": "MIT2020116_LAB ASSIGNMENT 5_Q1.ipynb",
      "provenance": []
    }
  },
  "cells": [
    {
      "cell_type": "code",
      "metadata": {
        "id": "iKu_gILTnP3f"
      },
      "source": [
        "import pandas\n",
        "from math import inf\n",
        "data_list=pandas.read_excel('DATASET.xlsx')\n",
        "data_list=data_list.drop(columns=['Example'])\n"
      ],
      "execution_count": null,
      "outputs": []
    },
    {
      "cell_type": "code",
      "metadata": {
        "id": "s6MoUQFZnP3m",
        "outputId": "298f1b71-d4cd-46c5-8ca4-4a7a8d9a43ae"
      },
      "source": [
        "data_list\n"
      ],
      "execution_count": null,
      "outputs": [
        {
          "output_type": "execute_result",
          "data": {
            "text/html": [
              "<div>\n",
              "<style scoped>\n",
              "    .dataframe tbody tr th:only-of-type {\n",
              "        vertical-align: middle;\n",
              "    }\n",
              "\n",
              "    .dataframe tbody tr th {\n",
              "        vertical-align: top;\n",
              "    }\n",
              "\n",
              "    .dataframe thead th {\n",
              "        text-align: right;\n",
              "    }\n",
              "</style>\n",
              "<table border=\"1\" class=\"dataframe\">\n",
              "  <thead>\n",
              "    <tr style=\"text-align: right;\">\n",
              "      <th></th>\n",
              "      <th>ALT</th>\n",
              "      <th>Bar</th>\n",
              "      <th>Fri</th>\n",
              "      <th>Hun</th>\n",
              "      <th>Pat</th>\n",
              "      <th>Price</th>\n",
              "      <th>Rain</th>\n",
              "      <th>Res</th>\n",
              "      <th>Type</th>\n",
              "      <th>Est</th>\n",
              "      <th>Target Wait</th>\n",
              "    </tr>\n",
              "  </thead>\n",
              "  <tbody>\n",
              "    <tr>\n",
              "      <th>0</th>\n",
              "      <td>T</td>\n",
              "      <td>F</td>\n",
              "      <td>F</td>\n",
              "      <td>T</td>\n",
              "      <td>Some</td>\n",
              "      <td>$$$</td>\n",
              "      <td>F</td>\n",
              "      <td>T</td>\n",
              "      <td>French</td>\n",
              "      <td>0 to 10</td>\n",
              "      <td>T</td>\n",
              "    </tr>\n",
              "    <tr>\n",
              "      <th>1</th>\n",
              "      <td>T</td>\n",
              "      <td>F</td>\n",
              "      <td>F</td>\n",
              "      <td>T</td>\n",
              "      <td>Full</td>\n",
              "      <td>$</td>\n",
              "      <td>F</td>\n",
              "      <td>F</td>\n",
              "      <td>Thai</td>\n",
              "      <td>30 to 60</td>\n",
              "      <td>F</td>\n",
              "    </tr>\n",
              "    <tr>\n",
              "      <th>2</th>\n",
              "      <td>F</td>\n",
              "      <td>T</td>\n",
              "      <td>F</td>\n",
              "      <td>F</td>\n",
              "      <td>Some</td>\n",
              "      <td>$</td>\n",
              "      <td>F</td>\n",
              "      <td>F</td>\n",
              "      <td>Burger</td>\n",
              "      <td>0 to 10</td>\n",
              "      <td>T</td>\n",
              "    </tr>\n",
              "    <tr>\n",
              "      <th>3</th>\n",
              "      <td>T</td>\n",
              "      <td>F</td>\n",
              "      <td>T</td>\n",
              "      <td>T</td>\n",
              "      <td>Full</td>\n",
              "      <td>$</td>\n",
              "      <td>F</td>\n",
              "      <td>F</td>\n",
              "      <td>Thai</td>\n",
              "      <td>10 to  30</td>\n",
              "      <td>T</td>\n",
              "    </tr>\n",
              "    <tr>\n",
              "      <th>4</th>\n",
              "      <td>T</td>\n",
              "      <td>F</td>\n",
              "      <td>T</td>\n",
              "      <td>F</td>\n",
              "      <td>Full</td>\n",
              "      <td>$$$</td>\n",
              "      <td>F</td>\n",
              "      <td>T</td>\n",
              "      <td>French</td>\n",
              "      <td>&gt; 60</td>\n",
              "      <td>F</td>\n",
              "    </tr>\n",
              "    <tr>\n",
              "      <th>5</th>\n",
              "      <td>F</td>\n",
              "      <td>T</td>\n",
              "      <td>F</td>\n",
              "      <td>T</td>\n",
              "      <td>Some</td>\n",
              "      <td>$$</td>\n",
              "      <td>T</td>\n",
              "      <td>T</td>\n",
              "      <td>Italian</td>\n",
              "      <td>0 to 10</td>\n",
              "      <td>T</td>\n",
              "    </tr>\n",
              "    <tr>\n",
              "      <th>6</th>\n",
              "      <td>F</td>\n",
              "      <td>T</td>\n",
              "      <td>F</td>\n",
              "      <td>F</td>\n",
              "      <td>None</td>\n",
              "      <td>$</td>\n",
              "      <td>T</td>\n",
              "      <td>F</td>\n",
              "      <td>Burger</td>\n",
              "      <td>0 to 10</td>\n",
              "      <td>F</td>\n",
              "    </tr>\n",
              "    <tr>\n",
              "      <th>7</th>\n",
              "      <td>F</td>\n",
              "      <td>F</td>\n",
              "      <td>F</td>\n",
              "      <td>T</td>\n",
              "      <td>Some</td>\n",
              "      <td>$$</td>\n",
              "      <td>T</td>\n",
              "      <td>T</td>\n",
              "      <td>Thai</td>\n",
              "      <td>0 to 10</td>\n",
              "      <td>T</td>\n",
              "    </tr>\n",
              "    <tr>\n",
              "      <th>8</th>\n",
              "      <td>F</td>\n",
              "      <td>T</td>\n",
              "      <td>T</td>\n",
              "      <td>F</td>\n",
              "      <td>Full</td>\n",
              "      <td>$</td>\n",
              "      <td>T</td>\n",
              "      <td>F</td>\n",
              "      <td>Burger</td>\n",
              "      <td>&gt;60</td>\n",
              "      <td>F</td>\n",
              "    </tr>\n",
              "    <tr>\n",
              "      <th>9</th>\n",
              "      <td>T</td>\n",
              "      <td>T</td>\n",
              "      <td>T</td>\n",
              "      <td>T</td>\n",
              "      <td>Full</td>\n",
              "      <td>$$$</td>\n",
              "      <td>F</td>\n",
              "      <td>T</td>\n",
              "      <td>Italian</td>\n",
              "      <td>10 to 30</td>\n",
              "      <td>F</td>\n",
              "    </tr>\n",
              "    <tr>\n",
              "      <th>10</th>\n",
              "      <td>F</td>\n",
              "      <td>F</td>\n",
              "      <td>F</td>\n",
              "      <td>F</td>\n",
              "      <td>None</td>\n",
              "      <td>$</td>\n",
              "      <td>F</td>\n",
              "      <td>F</td>\n",
              "      <td>Thai</td>\n",
              "      <td>0 to 10</td>\n",
              "      <td>F</td>\n",
              "    </tr>\n",
              "    <tr>\n",
              "      <th>11</th>\n",
              "      <td>T</td>\n",
              "      <td>T</td>\n",
              "      <td>T</td>\n",
              "      <td>T</td>\n",
              "      <td>Full</td>\n",
              "      <td>$</td>\n",
              "      <td>F</td>\n",
              "      <td>F</td>\n",
              "      <td>Burger</td>\n",
              "      <td>30 to 60</td>\n",
              "      <td>T</td>\n",
              "    </tr>\n",
              "  </tbody>\n",
              "</table>\n",
              "</div>"
            ],
            "text/plain": [
              "   ALT Bar Fri Hun   Pat Price Rain Res     Type        Est Target Wait\n",
              "0    T   F   F   T  Some   $$$    F   T   French    0 to 10           T\n",
              "1    T   F   F   T  Full     $    F   F     Thai   30 to 60           F\n",
              "2    F   T   F   F  Some     $    F   F   Burger    0 to 10           T\n",
              "3    T   F   T   T  Full     $    F   F     Thai  10 to  30           T\n",
              "4    T   F   T   F  Full   $$$    F   T   French       > 60           F\n",
              "5    F   T   F   T  Some    $$    T   T  Italian    0 to 10           T\n",
              "6    F   T   F   F  None     $    T   F   Burger    0 to 10           F\n",
              "7    F   F   F   T  Some    $$    T   T     Thai    0 to 10           T\n",
              "8    F   T   T   F  Full     $    T   F   Burger        >60           F\n",
              "9    T   T   T   T  Full   $$$    F   T  Italian   10 to 30           F\n",
              "10   F   F   F   F  None     $    F   F     Thai    0 to 10           F\n",
              "11   T   T   T   T  Full     $    F   F   Burger  30 to 60            T"
            ]
          },
          "metadata": {
            "tags": []
          },
          "execution_count": 2
        }
      ]
    },
    {
      "cell_type": "code",
      "metadata": {
        "id": "BWY0nT0FnP3o"
      },
      "source": [
        "def predict(x,data_list,target_column):\n",
        "    max_probablity=(-inf,None)\n",
        "    target_column=target_column\n",
        "    data_list=data_list\n",
        "    columns=[i for i in data_list.columns if i != target_column]\n",
        "    for target,target_data in data_list.groupby(target_column):\n",
        "      target_probablity=1\n",
        "      length_target_data=len(target_data) + 1\n",
        "      length=len(data_list)\n",
        "      for index, column in enumerate(columns):\n",
        "        target_probablity *= (1+len(target_data.loc[target_data[column] == x[index]]))/length_target_data\n",
        "      target_probablity *= length_target_data/length\n",
        "      if target_probablity>max_probablity[0]:\n",
        "        max_probablity=(target_probablity, target)\n",
        "      print(length_target_data)    \n",
        "    return max_probablity[1]"
      ],
      "execution_count": null,
      "outputs": []
    },
    {
      "cell_type": "code",
      "metadata": {
        "id": "PZNkQ6t2nP3q",
        "outputId": "55fc9ba3-38be-4d6d-9087-7026f65351ec"
      },
      "source": [
        "predict(('T', 'T', 'F', 'T', 'Some', '$$$', 'T', 'T', 'Italian', '>60'),data_list,'Target Wait')"
      ],
      "execution_count": null,
      "outputs": [
        {
          "output_type": "stream",
          "text": [
            "7\n",
            "7\n"
          ],
          "name": "stdout"
        },
        {
          "output_type": "execute_result",
          "data": {
            "text/plain": [
              "'T'"
            ]
          },
          "metadata": {
            "tags": []
          },
          "execution_count": 4
        }
      ]
    },
    {
      "cell_type": "code",
      "metadata": {
        "id": "ByMhB2eznP3r"
      },
      "source": [
        ""
      ],
      "execution_count": null,
      "outputs": []
    }
  ]
}